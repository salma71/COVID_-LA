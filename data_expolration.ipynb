{
  "nbformat": 4,
  "nbformat_minor": 0,
  "metadata": {
    "colab": {
      "name": "data_expolration.ipynb",
      "provenance": [],
      "collapsed_sections": [],
      "authorship_tag": "ABX9TyNBf4WcVp/jP/NyHq2/dfdX",
      "include_colab_link": true
    },
    "kernelspec": {
      "name": "python3",
      "display_name": "Python 3"
    }
  },
  "cells": [
    {
      "cell_type": "markdown",
      "metadata": {
        "id": "view-in-github",
        "colab_type": "text"
      },
      "source": [
        "<a href=\"https://colab.research.google.com/github/salma71/COVID_LA/blob/salma/data_expolration.ipynb\" target=\"_parent\"><img src=\"https://colab.research.google.com/assets/colab-badge.svg\" alt=\"Open In Colab\"/></a>"
      ]
    },
    {
      "cell_type": "code",
      "metadata": {
        "id": "Uz59RYQRiQ8F",
        "colab_type": "code",
        "colab": {
          "base_uri": "https://localhost:8080/",
          "height": 272
        },
        "outputId": "24f787ca-6f5c-4fad-f50e-c82a3195427f"
      },
      "source": [
        "# COVID-19 cases per county in CA\n",
        "import pandas as pd\n",
        "url = 'https://data.chhs.ca.gov/dataset/6882c390-b2d7-4b9a-aefa-2068cee63e47/resource/6cd8d424-dfaa-4bdd-9410-a3d656e1176e/download/covid19data.csv'  \n",
        "tot_cases = pd.read_csv(url)\n",
        "tot_cases.head()"
      ],
      "execution_count": 8,
      "outputs": [
        {
          "output_type": "execute_result",
          "data": {
            "text/html": [
              "<div>\n",
              "<style scoped>\n",
              "    .dataframe tbody tr th:only-of-type {\n",
              "        vertical-align: middle;\n",
              "    }\n",
              "\n",
              "    .dataframe tbody tr th {\n",
              "        vertical-align: top;\n",
              "    }\n",
              "\n",
              "    .dataframe thead th {\n",
              "        text-align: right;\n",
              "    }\n",
              "</style>\n",
              "<table border=\"1\" class=\"dataframe\">\n",
              "  <thead>\n",
              "    <tr style=\"text-align: right;\">\n",
              "      <th></th>\n",
              "      <th>County Name</th>\n",
              "      <th>Most Recent Date</th>\n",
              "      <th>Total Count Confirmed</th>\n",
              "      <th>Total Count Deaths</th>\n",
              "      <th>COVID-19 Positive Patients</th>\n",
              "      <th>Suspected COVID-19 Positive Patients</th>\n",
              "      <th>ICU COVID-19 Positive Patients</th>\n",
              "      <th>ICU COVID-19 Suspected Patients</th>\n",
              "    </tr>\n",
              "  </thead>\n",
              "  <tbody>\n",
              "    <tr>\n",
              "      <th>0</th>\n",
              "      <td>Los Angeles</td>\n",
              "      <td>4/1/2020</td>\n",
              "      <td>3502.0</td>\n",
              "      <td>66.0</td>\n",
              "      <td>739.0</td>\n",
              "      <td>1332.0</td>\n",
              "      <td>335.0</td>\n",
              "      <td>220.0</td>\n",
              "    </tr>\n",
              "    <tr>\n",
              "      <th>1</th>\n",
              "      <td>San Bernardino</td>\n",
              "      <td>4/1/2020</td>\n",
              "      <td>245.0</td>\n",
              "      <td>5.0</td>\n",
              "      <td>95.0</td>\n",
              "      <td>196.0</td>\n",
              "      <td>39.0</td>\n",
              "      <td>52.0</td>\n",
              "    </tr>\n",
              "    <tr>\n",
              "      <th>2</th>\n",
              "      <td>Orange</td>\n",
              "      <td>4/1/2020</td>\n",
              "      <td>579.0</td>\n",
              "      <td>11.0</td>\n",
              "      <td>117.0</td>\n",
              "      <td>221.0</td>\n",
              "      <td>50.0</td>\n",
              "      <td>48.0</td>\n",
              "    </tr>\n",
              "    <tr>\n",
              "      <th>3</th>\n",
              "      <td>Riverside</td>\n",
              "      <td>4/1/2020</td>\n",
              "      <td>306.0</td>\n",
              "      <td>11.0</td>\n",
              "      <td>85.0</td>\n",
              "      <td>182.0</td>\n",
              "      <td>29.0</td>\n",
              "      <td>47.0</td>\n",
              "    </tr>\n",
              "    <tr>\n",
              "      <th>4</th>\n",
              "      <td>Sacramento</td>\n",
              "      <td>4/1/2020</td>\n",
              "      <td>299.0</td>\n",
              "      <td>8.0</td>\n",
              "      <td>53.0</td>\n",
              "      <td>138.0</td>\n",
              "      <td>20.0</td>\n",
              "      <td>33.0</td>\n",
              "    </tr>\n",
              "  </tbody>\n",
              "</table>\n",
              "</div>"
            ],
            "text/plain": [
              "      County Name  ... ICU COVID-19 Suspected Patients\n",
              "0     Los Angeles  ...                           220.0\n",
              "1  San Bernardino  ...                            52.0\n",
              "2          Orange  ...                            48.0\n",
              "3       Riverside  ...                            47.0\n",
              "4      Sacramento  ...                            33.0\n",
              "\n",
              "[5 rows x 8 columns]"
            ]
          },
          "metadata": {
            "tags": []
          },
          "execution_count": 8
        }
      ]
    },
    {
      "cell_type": "code",
      "metadata": {
        "id": "Dl5s_ZtLjMS6",
        "colab_type": "code",
        "colab": {}
      },
      "source": [
        ""
      ],
      "execution_count": 0,
      "outputs": []
    }
  ]
}